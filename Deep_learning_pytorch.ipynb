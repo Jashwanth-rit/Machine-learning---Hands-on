{
  "nbformat": 4,
  "nbformat_minor": 0,
  "metadata": {
    "colab": {
      "provenance": [],
      "gpuType": "T4",
      "authorship_tag": "ABX9TyNLRjpoVXG92VSh30SOZCfs",
      "include_colab_link": true
    },
    "kernelspec": {
      "name": "python3",
      "display_name": "Python 3"
    },
    "language_info": {
      "name": "python"
    },
    "accelerator": "GPU"
  },
  "cells": [
    {
      "cell_type": "markdown",
      "metadata": {
        "id": "view-in-github",
        "colab_type": "text"
      },
      "source": [
        "<a href=\"https://colab.research.google.com/github/Jashwanth-rit/Machine-learning---Hands-on/blob/main/Deep_learning_pytorch.ipynb\" target=\"_parent\"><img src=\"https://colab.research.google.com/assets/colab-badge.svg\" alt=\"Open In Colab\"/></a>"
      ]
    },
    {
      "cell_type": "code",
      "execution_count": null,
      "metadata": {
        "colab": {
          "base_uri": "https://localhost:8080/"
        },
        "id": "swW3QbKGmEaH",
        "outputId": "ce72aba4-d251-4fc6-9c06-e5ef3944e397"
      },
      "outputs": [
        {
          "output_type": "execute_result",
          "data": {
            "text/plain": [
              "4"
            ]
          },
          "metadata": {},
          "execution_count": 1
        }
      ],
      "source": [
        "2+2\n"
      ]
    },
    {
      "cell_type": "code",
      "source": [
        "import torch\n",
        "import numpy as np\n",
        ""
      ],
      "metadata": {
        "id": "kV7YnoWAmXTP"
      },
      "execution_count": 5,
      "outputs": []
    },
    {
      "cell_type": "code",
      "source": [
        "tensor_2d =  torch.randn(3,4)\n",
        "tensor_2d"
      ],
      "metadata": {
        "colab": {
          "base_uri": "https://localhost:8080/"
        },
        "id": "vntxn6wirkAR",
        "outputId": "89f487e6-fd46-40a2-ea8e-ae708f4289d9"
      },
      "execution_count": 3,
      "outputs": [
        {
          "output_type": "execute_result",
          "data": {
            "text/plain": [
              "tensor([[-0.7265, -0.5975, -0.4915,  0.9811],\n",
              "        [-0.2670,  0.9754,  0.5083, -0.8347],\n",
              "        [-0.6343, -0.6600, -0.3614,  1.3351]])"
            ]
          },
          "metadata": {},
          "execution_count": 3
        }
      ]
    },
    {
      "cell_type": "markdown",
      "source": [
        "Basically , after importing torch just apply all the function of numpy to torch ,\n",
        "other thing is tensor is one step farward of numpy , we can manipulate arrays effectively than the numpy ,\n",
        "\n",
        " so the cunclusion is Arraylist > Numpy > Tensor ."
      ],
      "metadata": {
        "id": "4ALniYNwWXqV"
      }
    },
    {
      "cell_type": "code",
      "source": [
        "tensor_3d =  torch.randn(2,3,4)\n",
        "tensor_3d"
      ],
      "metadata": {
        "id": "BuZnOfmsXvAo",
        "outputId": "c113b743-b20b-4b44-a9dc-5ea1e5c477ce",
        "colab": {
          "base_uri": "https://localhost:8080/"
        }
      },
      "execution_count": 4,
      "outputs": [
        {
          "output_type": "execute_result",
          "data": {
            "text/plain": [
              "tensor([[[-0.7632, -0.6061,  0.4601, -1.4232],\n",
              "         [ 0.5530, -0.7686,  0.7916,  0.3047],\n",
              "         [ 0.9000,  0.0254, -0.5892,  0.3770]],\n",
              "\n",
              "        [[ 0.5969, -1.3685, -1.4988,  1.8397],\n",
              "         [ 1.3459, -0.7205, -0.0276, -1.8734],\n",
              "         [ 0.4746,  0.3002,  0.0289, -1.0282]]])"
            ]
          },
          "metadata": {},
          "execution_count": 4
        }
      ]
    },
    {
      "cell_type": "code",
      "source": [
        "np1 = np.random.rand(3,4)\n",
        "np1\n",
        "\n",
        "tensor_d =  torch.tensor(np1)\n",
        "tensor_d"
      ],
      "metadata": {
        "id": "jEtTfPNqX2rM",
        "outputId": "fdd3cb81-6175-4185-a4a6-0d39d7c31f7b",
        "colab": {
          "base_uri": "https://localhost:8080/"
        }
      },
      "execution_count": 9,
      "outputs": [
        {
          "output_type": "execute_result",
          "data": {
            "text/plain": [
              "tensor([[0.3365, 0.1560, 0.5804, 0.2658],\n",
              "        [0.5667, 0.2564, 0.7045, 0.6131],\n",
              "        [0.7158, 0.0594, 0.7649, 0.4315]], dtype=torch.float64)"
            ]
          },
          "metadata": {},
          "execution_count": 9
        }
      ]
    },
    {
      "cell_type": "code",
      "source": [
        "# operations on tensor\n",
        "\n",
        "tensor_1 = tensor_d.reshape(12)\n",
        "tensor_1"
      ],
      "metadata": {
        "id": "XmHtGqHJYbTq",
        "outputId": "d38ed2b6-0245-4ae5-bca0-cc23e5fdefb3",
        "colab": {
          "base_uri": "https://localhost:8080/"
        }
      },
      "execution_count": 10,
      "outputs": [
        {
          "output_type": "execute_result",
          "data": {
            "text/plain": [
              "tensor([0.3365, 0.1560, 0.5804, 0.2658, 0.5667, 0.2564, 0.7045, 0.6131, 0.7158,\n",
              "        0.0594, 0.7649, 0.4315], dtype=torch.float64)"
            ]
          },
          "metadata": {},
          "execution_count": 10
        }
      ]
    },
    {
      "cell_type": "code",
      "source": [
        "tensor_2 = tensor_1.view(3,4)\n",
        "tensor_2"
      ],
      "metadata": {
        "id": "cSxUzmmscJer",
        "outputId": "ace5d37b-1ac5-4830-9990-d72f70570696",
        "colab": {
          "base_uri": "https://localhost:8080/"
        }
      },
      "execution_count": 11,
      "outputs": [
        {
          "output_type": "execute_result",
          "data": {
            "text/plain": [
              "tensor([[0.3365, 0.1560, 0.5804, 0.2658],\n",
              "        [0.5667, 0.2564, 0.7045, 0.6131],\n",
              "        [0.7158, 0.0594, 0.7649, 0.4315]], dtype=torch.float64)"
            ]
          },
          "metadata": {},
          "execution_count": 11
        }
      ]
    },
    {
      "cell_type": "markdown",
      "source": [
        "Find the diffrence between reshape and view , check it .\n",
        "I know how access the values by index , and slicing as similar as Numpy"
      ],
      "metadata": {
        "id": "xj4YeVmScTsC"
      }
    },
    {
      "cell_type": "code",
      "source": [],
      "metadata": {
        "id": "27YQsYeQcdgr"
      },
      "execution_count": null,
      "outputs": []
    }
  ]
}