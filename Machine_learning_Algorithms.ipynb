{
 "cells": [
  {
   "cell_type": "markdown",
   "id": "0500fc02-443a-4fd9-903b-7ef8525b3475",
   "metadata": {},
   "source": [
    "# Linear regression #"
   ]
  },
  {
   "cell_type": "code",
   "execution_count": null,
   "id": "98ec7738-4e62-4ede-a692-1ab10f4217ee",
   "metadata": {},
   "outputs": [],
   "source": []
  }
 ],
 "metadata": {
  "kernelspec": {
   "display_name": "Python 3 (ipykernel)",
   "language": "python",
   "name": "python3"
  },
  "language_info": {
   "codemirror_mode": {
    "name": "ipython",
    "version": 3
   },
   "file_extension": ".py",
   "mimetype": "text/x-python",
   "name": "python",
   "nbconvert_exporter": "python",
   "pygments_lexer": "ipython3",
   "version": "3.12.2"
  }
 },
 "nbformat": 4,
 "nbformat_minor": 5
}
